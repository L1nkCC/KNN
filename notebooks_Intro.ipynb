{
  "metadata": {
    "kernelspec": {
      "name": "python",
      "display_name": "Python (Pyodide)",
      "language": "python"
    },
    "language_info": {
      "codemirror_mode": {
        "name": "python",
        "version": 3
      },
      "file_extension": ".py",
      "mimetype": "text/x-python",
      "name": "python",
      "nbconvert_exporter": "python",
      "pygments_lexer": "ipython3",
      "version": "3.8"
    }
  },
  "nbformat_minor": 5,
  "nbformat": 4,
  "cells": [
    {
      "cell_type": "code",
      "source": "from math import sqrt\nfrom math import floor",
      "metadata": {
        "trusted": true
      },
      "execution_count": 358,
      "outputs": [],
      "id": "ea2cf684-1705-4ade-934a-bb9b7e61608f"
    },
    {
      "cell_type": "code",
      "source": "def calculate_distance(row1, row2):\n    return sqrt(\n        sum(\n        [(row1[0][i] - row2[0][i])**2 for i in range(len(row1))]\n    )\n    )",
      "metadata": {
        "trusted": true
      },
      "execution_count": 2,
      "outputs": [],
      "id": "d7f703ad-a5a3-4365-8227-8be63b91d4c9"
    },
    {
      "cell_type": "code",
      "source": "def manDist(row1,row2):\n     return abs(\n        sum(\n        [(row1[0][i] - row2[0][i]) for i in range(len(row1))]\n    )\n    )",
      "metadata": {
        "trusted": true
      },
      "execution_count": 351,
      "outputs": [],
      "id": "504a033e-6a9e-4f7b-8cc1-5295388325f5"
    },
    {
      "cell_type": "code",
      "source": "def dist3(row1,row2):\n    return abs(sum(\n        [(row1[0][i] - row2[0][i])**3 for i in range(len(row1))]\n    ))**(1./3)",
      "metadata": {
        "trusted": true
      },
      "execution_count": 368,
      "outputs": [],
      "id": "ede57dd3-bbd2-47ff-abec-0fcdfcaf64ca"
    },
    {
      "cell_type": "code",
      "source": "# Test distance function\ndataset = [\n    ([1,2], 1), ([2,1], 1), \n    ([0,1], 0), ([1,0], 0)\n]\n \n# compute distance from a data point\ntest_row = ([.5, .5], -1)\n \ndistances = [calculate_distance(test_row, row) for row in dataset]\nprint(distances)",
      "metadata": {
        "trusted": true
      },
      "execution_count": 369,
      "outputs": [
        {
          "name": "stdout",
          "text": "[1.5811388300841898, 1.5811388300841898, 0.7071067811865476, 0.7071067811865476]\n",
          "output_type": "stream"
        }
      ],
      "id": "47be0d98-f2ca-4dc2-8fea-4053e54f0a05"
    },
    {
      "cell_type": "code",
      "source": "def get_neighbors(train, test_row, num_neighbors=3):\n    \n    #compute distancesJIFOWJEFIOJ\n    distances = [(train_row, calculate_distance(test_row, train_row)) \n                 for train_row in train]\n    \n    #sort\n    distances.sort(key=lambda tup: tup[1])\n    \n    #get top-k neighbors\n    neighbors = [distances[i][0] for i in range(num_neighbors)]\n    \n    return neighbors",
      "metadata": {
        "trusted": true
      },
      "execution_count": 376,
      "outputs": [],
      "id": "c7dc84aa-4adf-4860-ae23-44d5c73f35c3"
    },
    {
      "cell_type": "code",
      "source": "# test get_get_neighbors function with top-3 neighbors\nneighbors = get_neighbors(dataset, test_row)\nprint(neighbors)",
      "metadata": {
        "trusted": true
      },
      "execution_count": 5,
      "outputs": [
        {
          "name": "stdout",
          "text": "[([0, 1], 0), ([1, 0], 0), ([1, 2], 1)]\n",
          "output_type": "stream"
        }
      ],
      "id": "8fe913a6-498e-4d45-b70c-c32e56c3ecae"
    },
    {
      "cell_type": "code",
      "source": "def predict_classification(train, test_row, num_neighbors=3):\n    \n    #get top-k neighbors\n    neighbors = get_neighbors(train, test_row, num_neighbors)\n    \n    # get most frequent label\n    output_values = [row[-1] for row in neighbors]\n\n    prediction = max(set(output_values), key=output_values.count)\n    \n    return prediction",
      "metadata": {
        "trusted": true
      },
      "execution_count": 213,
      "outputs": [],
      "id": "2734516e-a418-4ad6-ae26-47ab511f0db8"
    },
    {
      "cell_type": "code",
      "source": "def confusionMatrix(train, testData, num_neighbors = 3):\n    #get a parallel array of predicted labels\n    predictedLabels = [predict_classification(train, i, num_neighbors) for i in testData]\n    \n    #create 2d empty confusion Matrix\n    labelSet = set([row[-1] for row in train])\n    labels = list(labelSet)\n    confusionMatrix = [[0] * len(labels) for i in range(len(labels))]\n    \n    #fill the confusion matrix\n    for i in range(len(testData)):                           #go through all of the test data by index\n        if testData[i][1] == (predictedLabels[i]):           #if the parallel arrays match labels update confusion matrix accordingly\n            for labelIndex in range(len(labels)):            #go through all the labels\n                if labels[labelIndex] == predictedLabels[i]: #when label match is found update corresponding diagonal in ConfusionMatrix\n                    confusionMatrix[labelIndex][labelIndex] += 1\n                    break\n        else:\n            #determine the label index of the predicted and true labels\n            predictedIndex = -1;\n            trueIndex = -1;\n            for labelIndex in range(len(labels)):\n                if labels[labelIndex] == predictedLabels[i]:\n                    predictedIndex = labelIndex\n                if labels[labelIndex] == testData[i][1]:\n                    trueIndex = labelIndex\n            confusionMatrix[trueIndex][predictedIndex] += 1\n    \n    return (confusionMatrix, labels)",
      "metadata": {
        "trusted": true
      },
      "execution_count": 37,
      "outputs": [],
      "id": "bc4f511d-cfbd-4c3f-b18d-6ce0288b5d84"
    },
    {
      "cell_type": "code",
      "source": "def accuracyMatrix(cMatrix, labels):\n    \n    accuracyMatrix = [-1.0] * len(labels)\n    totalEntries = sum(sum(cMatrix,[]))\n    \n    for accuracyIndex in range(len(labels)): #for each label for return value accuracy Matrix\n        notTrueNegCount = 0\n        truePosCount = cMatrix[accuracyIndex][accuracyIndex]\n        numerator = 0\n        \n        #get the count of entries that were not trueNegatives\n        for labelIndex in range(len(labels)):\n            notTrueNegCount += cMatrix[accuracyIndex][labelIndex] + cMatrix[labelIndex][accuracyIndex]\n        notTrueNegCount -= truePosCount\n        \n        trueNegCount = totalEntries - notTrueNegCount    #determine the TrueNegativeCount\n        numerator = trueNegCount + truePosCount          \n        accuracyMatrix[accuracyIndex] = numerator/totalEntries\n    return accuracyMatrix\n        ",
      "metadata": {
        "trusted": true
      },
      "execution_count": 67,
      "outputs": [],
      "id": "083c03f6-e923-4f53-85ae-80f27ae066eb"
    },
    {
      "cell_type": "code",
      "source": "def precisionMatrix(cMatrix, labels):\n    precisionMatrix = [-1.0] *len(labels)\n    \n    for precisionIndex in range(len(labels)):\n        truePosCount = cMatrix[precisionIndex][precisionIndex]\n        posCount = 0\n        for label in range(len(labels)):\n            posCount += cMatrix[label][precisionIndex]\n        precisionMatrix[precisionIndex] = truePosCount/posCount\n    \n    return precisionMatrix",
      "metadata": {
        "trusted": true
      },
      "execution_count": 70,
      "outputs": [],
      "id": "09b2add3-1cad-4d27-bcc6-53a1e94f29c9"
    },
    {
      "cell_type": "code",
      "source": "def recallMatrix(cMatrix, labels):\n    recallMatrix = [-1.0] * len(labels)\n    \n    for recallIndex in range(len(labels)):\n        truePosCount = cMatrix[recallIndex][recallIndex]\n        predictCount = 0\n        for label in range(len(labels)):\n            predictCount += cMatrix[recallIndex][label]\n        recallMatrix[recallIndex] = truePosCount/predictCount\n        \n    return recallMatrix",
      "metadata": {
        "trusted": true
      },
      "execution_count": 78,
      "outputs": [],
      "id": "9bfb670c-c73b-42ba-9a6b-468df360cd3a"
    },
    {
      "cell_type": "code",
      "source": "def F1ScoreMatrix(cMatrix,labels):\n    pMatrix = precisionMatrix(cMatrix, labels)\n    rMatrix = recallMatrix(cMatrix,labels)\n    fMatrix = [-1.0] * len(labels)\n    for i in range(len(labels)):\n        fMatrix[i] = (2*pMatrix[i]*rMatrix[i])/(pMatrix[i]+rMatrix[i])\n    return fMatrix",
      "metadata": {
        "trusted": true
      },
      "execution_count": 85,
      "outputs": [],
      "id": "c1e157a6-fb19-47e2-b0bb-9099b5f1ba80"
    },
    {
      "cell_type": "code",
      "source": "def macAveragePrecision(cMatrix, labels):\n    return (sum(precisionMatrix(cMatrix,labels))/len(labels))",
      "metadata": {
        "trusted": true
      },
      "execution_count": 86,
      "outputs": [],
      "id": "81a66765-d265-436b-a036-8425f7da4405"
    },
    {
      "cell_type": "code",
      "source": "def macAverageRecall(cMatrix, labels):\n    return (sum(recallMatrix(cMatrix,labels))/len(labels))",
      "metadata": {
        "trusted": true
      },
      "execution_count": 87,
      "outputs": [],
      "id": "9be45d07-2fff-45f0-b00f-79f9c5d27ca9"
    },
    {
      "cell_type": "code",
      "source": "def macAverageF1Score(cMatrix, labels):\n    return (sum(F1ScoreMatrix(cMatrix,labels))/len(labels))",
      "metadata": {
        "trusted": true
      },
      "execution_count": 88,
      "outputs": [],
      "id": "df18fb3e-0bf4-4a7e-8162-1981499e7644"
    },
    {
      "cell_type": "code",
      "source": "def supportMatrix(cMatrix, labels):\n    sMatrix = [0] * len(labels)\n    for supportIndex in range(len(labels)):\n        for label in range(len(labels)):\n            sMatrix[supportIndex] += cMatrix[supportIndex][label]\n            \n    return sMatrix",
      "metadata": {
        "trusted": true
      },
      "execution_count": 99,
      "outputs": [],
      "id": "7adc3dc2-c1fb-429e-a9bf-6cb2a031c27f"
    },
    {
      "cell_type": "code",
      "source": "def weightAveragePrecision(cMatrix, labels):\n    returnVal = 0\n    pMatrix = precisionMatrix(cMatrix,labels)\n    sMatrix = supportMatrix(cMatrix,labels)\n    totalEntries = sum(sum(cMatrix,[]))\n    for label in range(len(labels)):\n        returnVal += pMatrix[label]*sMatrix[label]\n    return returnVal/totalEntries",
      "metadata": {
        "trusted": true
      },
      "execution_count": 108,
      "outputs": [],
      "id": "b1f922ae-ef9f-4245-8279-36edb0ac921a"
    },
    {
      "cell_type": "code",
      "source": "def weightAverageRecall(cMatrix, labels):\n    returnVal = 0\n    rMatrix = recallMatrix(cMatrix,labels)\n    sMatrix = supportMatrix(cMatrix,labels)\n    totalEntries = sum(sum(cMatrix,[]))\n    for label in range(len(labels)):\n        returnVal += rMatrix[label]*sMatrix[label]\n    return returnVal/totalEntries",
      "metadata": {
        "trusted": true
      },
      "execution_count": 112,
      "outputs": [],
      "id": "be0f3c63-3c18-4189-87eb-d15db776f7e0"
    },
    {
      "cell_type": "code",
      "source": "def weightAverageF1Score(cMatrix, labels):\n    returnVal = 0\n    fMatrix = F1ScoreMatrix(cMatrix,labels)\n    sMatrix = supportMatrix(cMatrix,labels)\n    totalEntries = sum(sum(cMatrix,[]))\n    for label in range(len(labels)):\n        returnVal += fMatrix[label]*sMatrix[label]\n    return returnVal/totalEntries",
      "metadata": {
        "trusted": true
      },
      "execution_count": 113,
      "outputs": [],
      "id": "fb5cbe9a-11c1-4f97-a92c-bd72034c69a7"
    },
    {
      "cell_type": "code",
      "source": "coMa = [[4,1,1],[6,2,2],[3,0,6]]\nlabeled = [\"Cat\", \"Fish\", \"Hen\"]\nprint(precisionMatrix(coMa, labeled))\nprint(recallMatrix(coMa,labeled))\nprint(F1ScoreMatrix(coMa,labeled))\nprint(supportMatrix(coMa,labeled))\nprint(macAveragePrecision(coMa, labeled))\nprint(macAverageRecall(coMa,labeled))\nprint(macAverageF1Score(coMa,labeled))\nprint(weightAveragePrecision(coMa,labeled))\nprint(weightAverageRecall(coMa,labeled))\nprint(weightAverageF1Score(coMa,labeled))\n",
      "metadata": {
        "trusted": true
      },
      "execution_count": 164,
      "outputs": [
        {
          "name": "stdout",
          "text": "[0.3076923076923077, 0.6666666666666666, 0.6666666666666666]\n[0.6666666666666666, 0.2, 0.6666666666666666]\n[0.42105263157894735, 0.30769230769230765, 0.6666666666666666]\n[6, 10, 9]\n0.547008547008547\n0.5111111111111111\n0.46513720197930725\n0.5805128205128205\n0.48\n0.46412955465587047\n",
          "output_type": "stream"
        }
      ],
      "id": "4b8199f2-a5fb-4e00-9cd7-564a20b27412"
    },
    {
      "cell_type": "code",
      "source": "# test prediction function\ntest_data = [([2, 2], 1), ([1,1],0), ([.5, .5], 0)]\nprediction = predict_classification(dataset, test_data[0])\n(cMatrix, labelList) = confusionMatrix(dataset, test_data, 3)\nprint(prediction)\nprint(cMatrix)\nprint(labelList)",
      "metadata": {
        "trusted": true
      },
      "execution_count": 181,
      "outputs": [
        {
          "name": "stdout",
          "text": "Iris-setosa\nIris-setosa\nIris-setosa\n['Iris-setosa', 'Iris-setosa', 'Iris-setosa']\n{'Iris-setosa'}\n^set\nIris-setosa\nIris-setosa\nIris-setosa\n['Iris-setosa', 'Iris-setosa', 'Iris-setosa']\n{'Iris-setosa'}\n^set\nIris-setosa\nIris-setosa\nIris-setosa\n['Iris-setosa', 'Iris-setosa', 'Iris-setosa']\n{'Iris-setosa'}\n^set\nIris-setosa\nIris-setosa\nIris-setosa\n['Iris-setosa', 'Iris-setosa', 'Iris-setosa']\n{'Iris-setosa'}\n^set\nIris-setosa\n[[0, 0, 0], [0, 0, 0], [3, 0, 0]]\n['Iris-setosa', 'Iris-versicolor', 'Iris-virginica']\n",
          "output_type": "stream"
        }
      ],
      "id": "5612d754-8742-4833-817a-e96fa1296761"
    },
    {
      "cell_type": "code",
      "source": "print(recallMatrix(cMatrix,labelList))",
      "metadata": {
        "trusted": true
      },
      "execution_count": 208,
      "outputs": [
        {
          "ename": "<class 'ZeroDivisionError'>",
          "evalue": "division by zero",
          "traceback": [
            "\u001b[0;31m---------------------------------------------------------------------------\u001b[0m",
            "\u001b[0;31mZeroDivisionError\u001b[0m                         Traceback (most recent call last)",
            "Cell \u001b[0;32mIn [208], line 1\u001b[0m\n\u001b[0;32m----> 1\u001b[0m \u001b[38;5;28mprint\u001b[39m(\u001b[43mrecallMatrix\u001b[49m\u001b[43m(\u001b[49m\u001b[43mcMatrix\u001b[49m\u001b[43m,\u001b[49m\u001b[43mlabelList\u001b[49m\u001b[43m)\u001b[49m)\n",
            "Cell \u001b[0;32mIn [78], line 9\u001b[0m, in \u001b[0;36mrecallMatrix\u001b[0;34m(cMatrix, labels)\u001b[0m\n\u001b[1;32m      7\u001b[0m     \u001b[38;5;28;01mfor\u001b[39;00m label \u001b[38;5;129;01min\u001b[39;00m \u001b[38;5;28mrange\u001b[39m(\u001b[38;5;28mlen\u001b[39m(labels)):\n\u001b[1;32m      8\u001b[0m         predictCount \u001b[38;5;241m+\u001b[39m\u001b[38;5;241m=\u001b[39m cMatrix[recallIndex][label]\n\u001b[0;32m----> 9\u001b[0m     recallMatrix[recallIndex] \u001b[38;5;241m=\u001b[39m \u001b[43mtruePosCount\u001b[49m\u001b[38;5;241;43m/\u001b[39;49m\u001b[43mpredictCount\u001b[49m\n\u001b[1;32m     11\u001b[0m \u001b[38;5;28;01mreturn\u001b[39;00m recallMatrix\n",
            "\u001b[0;31mZeroDivisionError\u001b[0m: division by zero"
          ],
          "output_type": "error"
        }
      ],
      "id": "55985bac-cf82-4c29-a1c4-f0d1ff9620dc"
    },
    {
      "cell_type": "code",
      "source": "from sklearn.datasets import make_blobs\nfrom matplotlib import pyplot\nfrom pandas import DataFrame",
      "metadata": {
        "trusted": true
      },
      "execution_count": 8,
      "outputs": [],
      "id": "e8c282d7-f5bd-4100-95e5-49a2ef08fb5e"
    },
    {
      "cell_type": "code",
      "source": "# generate 2d classification dataset\nX, y = make_blobs(n_samples=500, centers=3, n_features=2)",
      "metadata": {
        "trusted": true
      },
      "execution_count": 9,
      "outputs": [],
      "id": "f37a9a9d-d42d-424f-b2fc-59da52fe767e"
    },
    {
      "cell_type": "code",
      "source": "# scatter plot, dots colored by class value\ndf = DataFrame(dict(x=X[:,0], y=X[:,1], label=y))\ncolors = {0:'red', 1:'blue', 2: 'green'}\nfig, ax = pyplot.subplots()\ngrouped = df.groupby('label')\nfor key, group in grouped:\n    group.plot(ax=ax, kind='scatter', x='x', y='y', label=key, \n               color=colors[key])\npyplot.show()",
      "metadata": {
        "trusted": true
      },
      "execution_count": 10,
      "outputs": [
        {
          "output_type": "display_data",
          "data": {
            "text/plain": "<pyolite.display.Image at 0x57cfb28>",
            "image/png": "[encoded data removed]"
          },
          "metadata": {}
        }
      ],
      "id": "d8be77d5-af7b-4263-8fd3-a2592d7f6b2c"
    },
    {
      "cell_type": "code",
      "source": "X, y = X.tolist(), y.tolist()\ndataset = [(data, label) for data, label in zip(X,y)]",
      "metadata": {
        "trusted": true
      },
      "execution_count": 11,
      "outputs": [],
      "id": "30d3892c-c959-435c-b6b8-837c9134252b"
    },
    {
      "cell_type": "code",
      "source": "test_data_point = ( [0, 5], 1)\nprediction = predict_classification(dataset, test_data_point)\nprint(prediction)",
      "metadata": {
        "trusted": true
      },
      "execution_count": 14,
      "outputs": [
        {
          "name": "stdout",
          "text": "1\n",
          "output_type": "stream"
        }
      ],
      "id": "5c7b196a-4541-4a6c-92f0-8f27a2081ec5"
    },
    {
      "cell_type": "code",
      "source": "#on to the real meat of the project\ndataset = [[[5.1,3.5,1.4,0.2],\"Iris-setosa\"],\n[[4.9,3.0,1.4,0.2],\"Iris-setosa\"],\n[[4.7,3.2,1.3,0.2],\"Iris-setosa\"],\n[[4.6,3.1,1.5,0.2],\"Iris-setosa\"],\n[[5.0,3.6,1.4,0.2],\"Iris-setosa\"],\n[[5.4,3.9,1.7,0.4],\"Iris-setosa\"],\n[[4.6,3.4,1.4,0.3],\"Iris-setosa\"],\n[[5.0,3.4,1.5,0.2],\"Iris-setosa\"],\n[[4.4,2.9,1.4,0.2],\"Iris-setosa\"],\n[[4.9,3.1,1.5,0.1],\"Iris-setosa\"],\n[[5.4,3.7,1.5,0.2],\"Iris-setosa\"],\n[[4.8,3.4,1.6,0.2],\"Iris-setosa\"],\n[[4.8,3.0,1.4,0.1],\"Iris-setosa\"],\n[[4.3,3.0,1.1,0.1],\"Iris-setosa\"],\n[[5.8,4.0,1.2,0.2],\"Iris-setosa\"],\n[[5.7,4.4,1.5,0.4],\"Iris-setosa\"],\n[[5.4,3.9,1.3,0.4],\"Iris-setosa\"],\n[[5.1,3.5,1.4,0.3],\"Iris-setosa\"],\n[[5.7,3.8,1.7,0.3],\"Iris-setosa\"],\n[[5.1,3.8,1.5,0.3],\"Iris-setosa\"],\n[[5.4,3.4,1.7,0.2],\"Iris-setosa\"],\n[[5.1,3.7,1.5,0.4],\"Iris-setosa\"],\n[[4.6,3.6,1.0,0.2],\"Iris-setosa\"],\n[[5.1,3.3,1.7,0.5],\"Iris-setosa\"],\n[[4.8,3.4,1.9,0.2],\"Iris-setosa\"],\n[[5.0,3.0,1.6,0.2],\"Iris-setosa\"],\n[[5.0,3.4,1.6,0.4],\"Iris-setosa\"],\n[[5.2,3.5,1.5,0.2],\"Iris-setosa\"],\n[[5.2,3.4,1.4,0.2],\"Iris-setosa\"],\n[[4.7,3.2,1.6,0.2],\"Iris-setosa\"],\n[[4.8,3.1,1.6,0.2],\"Iris-setosa\"],\n[[5.4,3.4,1.5,0.4],\"Iris-setosa\"],\n[[5.2,4.1,1.5,0.1],\"Iris-setosa\"],\n[[5.5,4.2,1.4,0.2],\"Iris-setosa\"],\n[[4.9,3.1,1.5,0.1],\"Iris-setosa\"],\n[[5.0,3.2,1.2,0.2],\"Iris-setosa\"],\n[[5.5,3.5,1.3,0.2],\"Iris-setosa\"],\n[[4.9,3.1,1.5,0.1],\"Iris-setosa\"],\n[[4.4,3.0,1.3,0.2],\"Iris-setosa\"],\n[[5.1,3.4,1.5,0.2],\"Iris-setosa\"],\n[[5.0,3.5,1.3,0.3],\"Iris-setosa\"],\n[[4.5,2.3,1.3,0.3],\"Iris-setosa\"],\n[[4.4,3.2,1.3,0.2],\"Iris-setosa\"],\n[[5.0,3.5,1.6,0.6],\"Iris-setosa\"],\n[[5.1,3.8,1.9,0.4],\"Iris-setosa\"],\n[[4.8,3.0,1.4,0.3],\"Iris-setosa\"],\n[[5.1,3.8,1.6,0.2],\"Iris-setosa\"],\n[[4.6,3.2,1.4,0.2],\"Iris-setosa\"],\n[[5.3,3.7,1.5,0.2],\"Iris-setosa\"],\n[[5.0,3.3,1.4,0.2],\"Iris-setosa\"],\n[[7.0,3.2,4.7,1.4],\"Iris-versicolor\"],\n[[6.4,3.2,4.5,1.5],\"Iris-versicolor\"],\n[[6.9,3.1,4.9,1.5],\"Iris-versicolor\"],\n[[5.5,2.3,4.0,1.3],\"Iris-versicolor\"],\n[[6.5,2.8,4.6,1.5],\"Iris-versicolor\"],\n[[5.7,2.8,4.5,1.3],\"Iris-versicolor\"],\n[[6.3,3.3,4.7,1.6],\"Iris-versicolor\"],\n[[4.9,2.4,3.3,1.0],\"Iris-versicolor\"],\n[[6.6,2.9,4.6,1.3],\"Iris-versicolor\"],\n[[5.2,2.7,3.9,1.4],\"Iris-versicolor\"],\n[[5.0,2.0,3.5,1.0],\"Iris-versicolor\"],\n[[5.9,3.0,4.2,1.5],\"Iris-versicolor\"],\n[[6.0,2.2,4.0,1.0],\"Iris-versicolor\"],\n[[6.1,2.9,4.7,1.4],\"Iris-versicolor\"],\n[[5.6,2.9,3.6,1.3],\"Iris-versicolor\"],\n[[6.7,3.1,4.4,1.4],\"Iris-versicolor\"],\n[[5.6,3.0,4.5,1.5],\"Iris-versicolor\"],\n[[5.8,2.7,4.1,1.0],\"Iris-versicolor\"],\n[[6.2,2.2,4.5,1.5],\"Iris-versicolor\"],\n[[5.6,2.5,3.9,1.1],\"Iris-versicolor\"],\n[[5.9,3.2,4.8,1.8],\"Iris-versicolor\"],\n[[6.1,2.8,4.0,1.3],\"Iris-versicolor\"],\n[[6.3,2.5,4.9,1.5],\"Iris-versicolor\"],\n[[6.1,2.8,4.7,1.2],\"Iris-versicolor\"],\n[[6.4,2.9,4.3,1.3],\"Iris-versicolor\"],\n[[6.6,3.0,4.4,1.4],\"Iris-versicolor\"],\n[[6.8,2.8,4.8,1.4],\"Iris-versicolor\"],\n[[6.7,3.0,5.0,1.7],\"Iris-versicolor\"],\n[[6.0,2.9,4.5,1.5],\"Iris-versicolor\"],\n[[5.7,2.6,3.5,1.0],\"Iris-versicolor\"],\n[[5.5,2.4,3.8,1.1],\"Iris-versicolor\"],\n[[5.5,2.4,3.7,1.0],\"Iris-versicolor\"],\n[[5.8,2.7,3.9,1.2],\"Iris-versicolor\"],\n[[6.0,2.7,5.1,1.6],\"Iris-versicolor\"],\n[[5.4,3.0,4.5,1.5],\"Iris-versicolor\"],\n[[6.0,3.4,4.5,1.6],\"Iris-versicolor\"],\n[[6.7,3.1,4.7,1.5],\"Iris-versicolor\"],\n[[6.3,2.3,4.4,1.3],\"Iris-versicolor\"],\n[[5.6,3.0,4.1,1.3],\"Iris-versicolor\"],\n[[5.5,2.5,4.0,1.3],\"Iris-versicolor\"],\n[[5.5,2.6,4.4,1.2],\"Iris-versicolor\"],\n[[6.1,3.0,4.6,1.4],\"Iris-versicolor\"],\n[[5.8,2.6,4.0,1.2],\"Iris-versicolor\"],\n[[5.0,2.3,3.3,1.0],\"Iris-versicolor\"],\n[[5.6,2.7,4.2,1.3],\"Iris-versicolor\"],\n[[5.7,3.0,4.2,1.2],\"Iris-versicolor\"],\n[[5.7,2.9,4.2,1.3],\"Iris-versicolor\"],\n[[6.2,2.9,4.3,1.3],\"Iris-versicolor\"],\n[[5.1,2.5,3.0,1.1],\"Iris-versicolor\"],\n[[5.7,2.8,4.1,1.3],\"Iris-versicolor\"],\n[[6.3,3.3,6.0,2.5],\"Iris-virginica\"],\n[[5.8,2.7,5.1,1.9],\"Iris-virginica\"],\n[[7.1,3.0,5.9,2.1],\"Iris-virginica\"],\n[[6.3,2.9,5.6,1.8],\"Iris-virginica\"],\n[[6.5,3.0,5.8,2.2],\"Iris-virginica\"],\n[[7.6,3.0,6.6,2.1],\"Iris-virginica\"],\n[[4.9,2.5,4.5,1.7],\"Iris-virginica\"],\n[[7.3,2.9,6.3,1.8],\"Iris-virginica\"],\n[[6.7,2.5,5.8,1.8],\"Iris-virginica\"],\n[[7.2,3.6,6.1,2.5],\"Iris-virginica\"],\n[[6.5,3.2,5.1,2.0],\"Iris-virginica\"],\n[[6.4,2.7,5.3,1.9],\"Iris-virginica\"],\n[[6.8,3.0,5.5,2.1],\"Iris-virginica\"],\n[[5.7,2.5,5.0,2.0],\"Iris-virginica\"],\n[[5.8,2.8,5.1,2.4],\"Iris-virginica\"],\n[[6.4,3.2,5.3,2.3],\"Iris-virginica\"],\n[[6.5,3.0,5.5,1.8],\"Iris-virginica\"],\n[[7.7,3.8,6.7,2.2],\"Iris-virginica\"],\n[[7.7,2.6,6.9,2.3],\"Iris-virginica\"],\n[[6.0,2.2,5.0,1.5],\"Iris-virginica\"],\n[[6.9,3.2,5.7,2.3],\"Iris-virginica\"],\n[[5.6,2.8,4.9,2.0],\"Iris-virginica\"],\n[[7.7,2.8,6.7,2.0],\"Iris-virginica\"],\n[[6.3,2.7,4.9,1.8],\"Iris-virginica\"],\n[[6.7,3.3,5.7,2.1],\"Iris-virginica\"],\n[[7.2,3.2,6.0,1.8],\"Iris-virginica\"],\n[[6.2,2.8,4.8,1.8],\"Iris-virginica\"],\n[[6.1,3.0,4.9,1.8],\"Iris-virginica\"],\n[[6.4,2.8,5.6,2.1],\"Iris-virginica\"],\n[[7.2,3.0,5.8,1.6],\"Iris-virginica\"],\n[[7.4,2.8,6.1,1.9],\"Iris-virginica\"],\n[[7.9,3.8,6.4,2.0],\"Iris-virginica\"],\n[[6.4,2.8,5.6,2.2],\"Iris-virginica\"],\n[[6.3,2.8,5.1,1.5],\"Iris-virginica\"],\n[[6.1,2.6,5.6,1.4],\"Iris-virginica\"],\n[[7.7,3.0,6.1,2.3],\"Iris-virginica\"],\n[[6.3,3.4,5.6,2.4],\"Iris-virginica\"],\n[[6.4,3.1,5.5,1.8],\"Iris-virginica\"],\n[[6.0,3.0,4.8,1.8],\"Iris-virginica\"],\n[[6.9,3.1,5.4,2.1],\"Iris-virginica\"],\n[[6.7,3.1,5.6,2.4],\"Iris-virginica\"],\n[[6.9,3.1,5.1,2.3],\"Iris-virginica\"],\n[[5.8,2.7,5.1,1.9],\"Iris-virginica\"],\n[[6.8,3.2,5.9,2.3],\"Iris-virginica\"],\n[[6.7,3.3,5.7,2.5],\"Iris-virginica\"],\n[[6.7,3.0,5.2,2.3],\"Iris-virginica\"],\n[[6.3,2.5,5.0,1.9],\"Iris-virginica\"],\n[[6.5,3.0,5.2,2.0],\"Iris-virginica\"],\n[[6.2,3.4,5.4,2.3],\"Iris-virginica\"],\n[[5.9,3.0,5.1,1.8],\"Iris-virginica\"]]\n\n#training as 80%\ntraining = [[[0, 0, 0, 0], \"n/A\"] for i in range(120)]\nfor i in range(40):\n    training[i] = dataset[i]\n    training[i+40] = dataset[i+50]\n    training[i+80] = dataset[i+100]\n#validation as 10%\nvalidation = [[0, 0, 0, 0, \"n/A\"] for i in range(15)]\nfor i in range(5):\n    validation[i] = dataset[i+40]\n    validation[i+5] = dataset[i+90]\n    validation[i+10] = dataset[i+140]\n#test as 10%\ntesting = [[0, 0, 0, 0, \"n/A\"] for i in range(15)]\nfor i in range(5):\n    testing[i] = dataset[i+45]\n    testing[i+5] = dataset[i+95]\n    testing[i+10] = dataset[i+145]",
      "metadata": {
        "trusted": true
      },
      "execution_count": 371,
      "outputs": [],
      "id": "5a4c19e8-5516-4f6d-9b35-e499fa455e3b"
    },
    {
      "cell_type": "code",
      "source": "def mostSuccesses(training, validation, k):\n    (cMatrix, labels) = confusionMatrix(training, validation, k)\n    successes = 0\n    for i in range(len(cMatrix)):\n        successes += cMatrix[i][i]\n    return successes",
      "metadata": {
        "trusted": true
      },
      "execution_count": 372,
      "outputs": [],
      "id": "e4f05d24-1e6d-46f2-99cd-5417d7b23989"
    },
    {
      "cell_type": "code",
      "source": "def findBestK(training, validation):\n    record = 0\n    recordK = 1\n    curr = 0\n    kn = 1\n    wall = floor(len(training)/2)-1\n    for i in range(wall):\n        kn+=2\n        curr = mostSuccesses(training, validation, kn)\n        if(curr > record):\n            record = curr\n            recordK = kn\n    return recordK",
      "metadata": {
        "trusted": true
      },
      "execution_count": 373,
      "outputs": [],
      "id": "14bba44d-3f5f-44c6-b81d-48a0ffb894da"
    },
    {
      "cell_type": "code",
      "source": "bestK = findBestK(training, validation)\n(cMatrix, labels) = confusionMatrix(training, testing, bestK)",
      "metadata": {
        "trusted": true
      },
      "execution_count": 374,
      "outputs": [],
      "id": "43e2fc4b-bc2f-4015-a346-cf5510c98e46"
    },
    {
      "cell_type": "code",
      "source": "print(bestK)\nprint(labels)\nprint(precisionMatrix(cMatrix, labels))\nprint(recallMatrix(cMatrix,labels))\nprint(F1ScoreMatrix(cMatrix,labels))\nprint(supportMatrix(cMatrix,labels))\nprint(macAveragePrecision(cMatrix, labels))\nprint(macAverageRecall(cMatrix,labels))\nprint(macAverageF1Score(cMatrix,labels))\nprint(weightAveragePrecision(cMatrix,labels))\nprint(weightAverageRecall(cMatrix,labels))\nprint(weightAverageF1Score(cMatrix,labels))",
      "metadata": {
        "trusted": true
      },
      "execution_count": 375,
      "outputs": [
        {
          "name": "stdout",
          "text": "29\n['Iris-setosa', 'Iris-versicolor', 'Iris-virginica']\n[1.0, 0.5714285714285714, 0.6666666666666666]\n[1.0, 0.8, 0.4]\n[1.0, 0.6666666666666666, 0.5]\n[5, 5, 5]\n0.746031746031746\n0.7333333333333334\n0.7222222222222222\n0.7460317460317459\n0.7333333333333333\n0.7222222222222221\n",
          "output_type": "stream"
        }
      ],
      "id": "08822a03-06ec-4e0e-a931-dd173c26be77"
    },
    {
      "cell_type": "code",
      "source": "",
      "metadata": {},
      "execution_count": null,
      "outputs": [],
      "id": "018b0500-9185-4f5c-b983-aaedac17a033"
    },
    {
      "cell_type": "code",
      "source": "",
      "metadata": {},
      "execution_count": null,
      "outputs": [],
      "id": "84082e0f-d0d4-48bc-8695-3be30c8d0873"
    }
  ]
}